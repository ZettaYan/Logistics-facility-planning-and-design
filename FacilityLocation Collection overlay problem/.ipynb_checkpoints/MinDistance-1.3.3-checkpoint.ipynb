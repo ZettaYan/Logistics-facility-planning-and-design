{
 "cells": [
  {
   "cell_type": "code",
   "execution_count": 1,
   "id": "0c097423-eb1f-4cd8-834b-3c93389cf920",
   "metadata": {},
   "outputs": [],
   "source": [
    "import pandas as pd"
   ]
  },
  {
   "cell_type": "code",
   "execution_count": 2,
   "id": "ad81e062-edfd-43c0-81fc-e5233c23169b",
   "metadata": {},
   "outputs": [],
   "source": [
    "graph = {'1': [(200, '1', '2'), (200, '1', '3')], \n",
    "         '2': [(200, '2', '1'), (300, '2', '3'), (350, '2', '4'), (400, '2', '7')], \n",
    "         '3': [(200, '3', '1'), (300, '3', '2'), (100, '3', '4')],\n",
    "         '4': [(350, '4', '2'), (100, '4', '3'), (150, '4', '5'), (250, '4', '6'), (300, '4', '7')], \n",
    "         '5': [(150, '5', '4'), (150, '5', '6')], \n",
    "         '6': [(250, '6', '4'), (150, '6', '5'), (300, '6', '7'), (300, '6', '8')],\n",
    "         '7': [(400, '7', '2'), (300, '7', '4'), (300, '7', '6'), (200, '7', '8'), (400, '7', '9')],\n",
    "         '8': [(300, '8', '6'), (200, '8', '7'), (300, '8', '9')],\n",
    "         '9': [(400, '9', '7'), (300, '9', '8')]\n",
    "        }\n",
    "\n",
    "def graph2adjacent_matrix(graph):\n",
    "    vnum = len(graph)\n",
    "    dict = {'1':0,'2':1,'3':2,'4':3,'5':4,'6':5,'7':6,'8':7,'9':8}\n",
    "    adjacent_matrix = [[0 if row==col else float('inf') for col in range(vnum)] for row in range(vnum)]\n",
    "    vertices = graph.keys()\n",
    "    for vertex in vertices:\n",
    "        for edge in graph[vertex]:\n",
    "            w,u,v = edge\n",
    "            adjacent_matrix[dict.get(u)][dict.get(v)]=w\n",
    "    return adjacent_matrix"
   ]
  },
  {
   "cell_type": "code",
   "execution_count": 3,
   "id": "70c71848-2383-4138-818a-71074aa16add",
   "metadata": {},
   "outputs": [
    {
     "name": "stdout",
     "output_type": "stream",
     "text": [
      "0\t200\t200\tinf\tinf\tinf\tinf\tinf\tinf\t\n",
      "200\t0\t300\t350\tinf\tinf\t400\tinf\tinf\t\n",
      "200\t300\t0\t100\tinf\tinf\tinf\tinf\tinf\t\n",
      "inf\t350\t100\t0\t150\t250\t300\tinf\tinf\t\n",
      "inf\tinf\tinf\t150\t0\t150\tinf\tinf\tinf\t\n",
      "inf\tinf\tinf\t250\t150\t0\t300\t300\tinf\t\n",
      "inf\t400\tinf\t300\tinf\t300\t0\t200\t400\t\n",
      "inf\tinf\tinf\tinf\tinf\t300\t200\t0\t300\t\n",
      "inf\tinf\tinf\tinf\tinf\tinf\t400\t300\t0\t\n",
      "\n",
      "0\t1\t2\t2\t2\t2\t1\t1\t1\t\n",
      "0\t1\t2\t3\t3\t3\t6\t6\t6\t\n",
      "0\t1\t2\t3\t3\t3\t3\t3\t3\t\n",
      "2\t1\t2\t3\t4\t5\t6\t6\t6\t\n",
      "3\t3\t3\t3\t4\t5\t3\t5\t5\t\n",
      "3\t3\t3\t3\t4\t5\t6\t7\t7\t\n",
      "1\t1\t3\t3\t3\t5\t6\t7\t8\t\n",
      "6\t6\t6\t6\t5\t5\t6\t7\t8\t\n",
      "6\t6\t6\t6\t7\t7\t6\t7\t8\t\n",
      "\n",
      "0\t200\t200\t300\t450\t550\t600\t800\t1000\t\n",
      "200\t0\t300\t350\t500\t600\t400\t600\t800\t\n",
      "200\t300\t0\t100\t250\t350\t400\t600\t800\t\n",
      "300\t350\t100\t0\t150\t250\t300\t500\t700\t\n",
      "450\t500\t250\t150\t0\t150\t450\t450\t750\t\n",
      "550\t600\t350\t250\t150\t0\t300\t300\t600\t\n",
      "600\t400\t400\t300\t450\t300\t0\t200\t400\t\n",
      "800\t600\t600\t500\t450\t300\t200\t0\t300\t\n",
      "1000\t800\t800\t700\t750\t600\t400\t300\t0\t\n"
     ]
    }
   ],
   "source": [
    "def floyd(adjacent_matrix):\n",
    "    vnum = len(adjacent_matrix)\n",
    "    a = [[adjacent_matrix[row][col] for col in range(vnum)] for row in range(vnum)]\n",
    "    nvertex = [[-1 if adjacent_matrix[row][col]==float('inf') else col for col in range(vnum)] for row in range(vnum)]\n",
    "    # print(adjacent_matrix)\n",
    "    for k in range(vnum):\n",
    "        for i in range(vnum):\n",
    "            for j in range(vnum):\n",
    "                if a[i][j]>a[i][k]+a[k][j]:\n",
    "                    a[i][j]=a[i][k]+a[k][j] \n",
    "                    nvertex[i][j] = nvertex[i][k]\n",
    "    return nvertex, a\n",
    "\n",
    "adjacent_matrix = graph2adjacent_matrix(graph)\n",
    "nvertex, a = floyd(adjacent_matrix)\n",
    "### 打印原邻接矩阵 ###\n",
    "for i in range(len(adjacent_matrix)):\n",
    "    for j in range(len(adjacent_matrix[0])):\n",
    "        print(adjacent_matrix[i][j],end=\"\\t\")\n",
    "    print()#打印一行后换行\n",
    "### 打印经过的顶点 ###\n",
    "print()\n",
    "for i in range(len(nvertex)):\n",
    "    for j in range(len(nvertex[0])):\n",
    "        print(nvertex[i][j],end=\"\\t\")\n",
    "    print()#打印一行后换行\n",
    "### 打印彼此之间的最短距离 ###\n",
    "print()\n",
    "for i in range(len(a)):\n",
    "    for j in range(len(a[0])):\n",
    "        print(a[i][j],end=\"\\t\")\n",
    "    print()#打印一行后换行"
   ]
  },
  {
   "cell_type": "code",
   "execution_count": 4,
   "id": "f4f53d1e-d721-48f3-aa85-bc8f91209a9f",
   "metadata": {},
   "outputs": [],
   "source": [
    "min_distance = pd.DataFrame(a, columns=[i for i in range(1, 10)], index=[i for i in range(1, 10)])\n",
    "min_distance.to_csv(\"MinDistance.csv\")"
   ]
  },
  {
   "cell_type": "code",
   "execution_count": null,
   "id": "8eaf7fc4-4664-4c36-bf42-df5295d3e18c",
   "metadata": {},
   "outputs": [],
   "source": []
  }
 ],
 "metadata": {
  "kernelspec": {
   "display_name": "Python 3",
   "language": "python",
   "name": "python3"
  },
  "language_info": {
   "codemirror_mode": {
    "name": "ipython",
    "version": 3
   },
   "file_extension": ".py",
   "mimetype": "text/x-python",
   "name": "python",
   "nbconvert_exporter": "python",
   "pygments_lexer": "ipython3",
   "version": "3.8.5"
  }
 },
 "nbformat": 4,
 "nbformat_minor": 5
}
