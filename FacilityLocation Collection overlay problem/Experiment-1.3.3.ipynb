{
 "cells": [
  {
   "cell_type": "code",
   "execution_count": 1,
   "id": "cba48792-bb06-4261-8409-62808fc45fa0",
   "metadata": {},
   "outputs": [],
   "source": [
    "# 导入包\n",
    "from docplex.mp.model import Model\n",
    "import pandas as pd\n",
    "\n",
    "# 建立模型\n",
    "m = Model(name='experimentmodel1.3.3')"
   ]
  },
  {
   "cell_type": "code",
   "execution_count": 2,
   "id": "fd089919-59b7-4aee-bfea-cdfa83af5559",
   "metadata": {},
   "outputs": [
    {
     "data": {
      "text/html": [
       "<div>\n",
       "<style scoped>\n",
       "    .dataframe tbody tr th:only-of-type {\n",
       "        vertical-align: middle;\n",
       "    }\n",
       "\n",
       "    .dataframe tbody tr th {\n",
       "        vertical-align: top;\n",
       "    }\n",
       "\n",
       "    .dataframe thead th {\n",
       "        text-align: right;\n",
       "    }\n",
       "</style>\n",
       "<table border=\"1\" class=\"dataframe\">\n",
       "  <thead>\n",
       "    <tr style=\"text-align: right;\">\n",
       "      <th></th>\n",
       "      <th>1</th>\n",
       "      <th>2</th>\n",
       "      <th>3</th>\n",
       "      <th>4</th>\n",
       "      <th>5</th>\n",
       "      <th>6</th>\n",
       "      <th>7</th>\n",
       "      <th>8</th>\n",
       "      <th>9</th>\n",
       "    </tr>\n",
       "  </thead>\n",
       "  <tbody>\n",
       "    <tr>\n",
       "      <th>1</th>\n",
       "      <td>True</td>\n",
       "      <td>True</td>\n",
       "      <td>True</td>\n",
       "      <td>True</td>\n",
       "      <td>False</td>\n",
       "      <td>False</td>\n",
       "      <td>False</td>\n",
       "      <td>False</td>\n",
       "      <td>False</td>\n",
       "    </tr>\n",
       "    <tr>\n",
       "      <th>2</th>\n",
       "      <td>True</td>\n",
       "      <td>True</td>\n",
       "      <td>True</td>\n",
       "      <td>False</td>\n",
       "      <td>False</td>\n",
       "      <td>False</td>\n",
       "      <td>False</td>\n",
       "      <td>False</td>\n",
       "      <td>False</td>\n",
       "    </tr>\n",
       "    <tr>\n",
       "      <th>3</th>\n",
       "      <td>True</td>\n",
       "      <td>True</td>\n",
       "      <td>True</td>\n",
       "      <td>True</td>\n",
       "      <td>True</td>\n",
       "      <td>False</td>\n",
       "      <td>False</td>\n",
       "      <td>False</td>\n",
       "      <td>False</td>\n",
       "    </tr>\n",
       "    <tr>\n",
       "      <th>4</th>\n",
       "      <td>True</td>\n",
       "      <td>False</td>\n",
       "      <td>True</td>\n",
       "      <td>True</td>\n",
       "      <td>True</td>\n",
       "      <td>True</td>\n",
       "      <td>True</td>\n",
       "      <td>False</td>\n",
       "      <td>False</td>\n",
       "    </tr>\n",
       "    <tr>\n",
       "      <th>5</th>\n",
       "      <td>False</td>\n",
       "      <td>False</td>\n",
       "      <td>True</td>\n",
       "      <td>True</td>\n",
       "      <td>True</td>\n",
       "      <td>True</td>\n",
       "      <td>False</td>\n",
       "      <td>False</td>\n",
       "      <td>False</td>\n",
       "    </tr>\n",
       "    <tr>\n",
       "      <th>6</th>\n",
       "      <td>False</td>\n",
       "      <td>False</td>\n",
       "      <td>False</td>\n",
       "      <td>True</td>\n",
       "      <td>True</td>\n",
       "      <td>True</td>\n",
       "      <td>True</td>\n",
       "      <td>True</td>\n",
       "      <td>False</td>\n",
       "    </tr>\n",
       "    <tr>\n",
       "      <th>7</th>\n",
       "      <td>False</td>\n",
       "      <td>False</td>\n",
       "      <td>False</td>\n",
       "      <td>True</td>\n",
       "      <td>False</td>\n",
       "      <td>True</td>\n",
       "      <td>True</td>\n",
       "      <td>True</td>\n",
       "      <td>False</td>\n",
       "    </tr>\n",
       "    <tr>\n",
       "      <th>8</th>\n",
       "      <td>False</td>\n",
       "      <td>False</td>\n",
       "      <td>False</td>\n",
       "      <td>False</td>\n",
       "      <td>False</td>\n",
       "      <td>True</td>\n",
       "      <td>True</td>\n",
       "      <td>True</td>\n",
       "      <td>True</td>\n",
       "    </tr>\n",
       "    <tr>\n",
       "      <th>9</th>\n",
       "      <td>False</td>\n",
       "      <td>False</td>\n",
       "      <td>False</td>\n",
       "      <td>False</td>\n",
       "      <td>False</td>\n",
       "      <td>False</td>\n",
       "      <td>False</td>\n",
       "      <td>True</td>\n",
       "      <td>True</td>\n",
       "    </tr>\n",
       "  </tbody>\n",
       "</table>\n",
       "</div>"
      ],
      "text/plain": [
       "       1      2      3      4      5      6      7      8      9\n",
       "1   True   True   True   True  False  False  False  False  False\n",
       "2   True   True   True  False  False  False  False  False  False\n",
       "3   True   True   True   True   True  False  False  False  False\n",
       "4   True  False   True   True   True   True   True  False  False\n",
       "5  False  False   True   True   True   True  False  False  False\n",
       "6  False  False  False   True   True   True   True   True  False\n",
       "7  False  False  False   True  False   True   True   True  False\n",
       "8  False  False  False  False  False   True   True   True   True\n",
       "9  False  False  False  False  False  False  False   True   True"
      ]
     },
     "execution_count": 2,
     "metadata": {},
     "output_type": "execute_result"
    }
   ],
   "source": [
    "# 定义参数\n",
    "n_city = 9\n",
    "\n",
    "# 城市索引\n",
    "set_city = range(1, n_city + 1)\n",
    "\n",
    "# 各城市之间的距离\n",
    "distance = pd.read_csv(\"min_distance.csv\", usecols=[i for i in set_city])\n",
    "distance.columns = [i for i in set_city]\n",
    "distance.index = [i for i in set_city]\n",
    "\n",
    "# 各城市建设配送中心的成本\n",
    "cost = pd.Series(pd.read_csv(\"cost.csv\")['cost'].values, index = [i for i in set_city])\n",
    "\n",
    "# 可覆盖关系矩阵\n",
    "coverable_distance = 300\n",
    "cover_matrix = pd.DataFrame(columns=[i for i in set_city], index = [i for i in set_city])\n",
    "for i in set_city:\n",
    "    for j in set_city:\n",
    "        if distance.loc[i,j] <= coverable_distance:\n",
    "            cover_matrix.loc[i,j] = True\n",
    "        else:\n",
    "            cover_matrix.loc[i,j] = False\n",
    "cover_matrix"
   ]
  },
  {
   "cell_type": "code",
   "execution_count": 3,
   "id": "9f405fbf-2c57-4c98-aaf8-46dcc9ac53fe",
   "metadata": {},
   "outputs": [],
   "source": [
    "# 定义变量\n",
    "x_vars = pd.Series([m.binary_var(name=\"x_{0}\".format(j)) for j in set_city])\n",
    "x_vars.index = [j for j in set_city]"
   ]
  },
  {
   "cell_type": "code",
   "execution_count": 4,
   "id": "482008b6-1d62-485c-aed5-127b0d40a435",
   "metadata": {},
   "outputs": [],
   "source": [
    "# 定义约束条件\n",
    "distance_constrains = {i : m.add_constraint(\n",
    "    sum(cover_matrix.loc[i,j] * x_vars.loc[j] for j in set_city) >= 1,\n",
    "    ctname=\"distance_constrain_{0}\".format(i))\n",
    "              for i in set_city}\n",
    "capability_constrain = m.add_constraint(x_vars.loc[6] == 0)"
   ]
  },
  {
   "cell_type": "code",
   "execution_count": 5,
   "id": "d9652f3f-1098-4e20-8e50-67215bccb5da",
   "metadata": {},
   "outputs": [],
   "source": [
    "# 定义目标函数\n",
    "# 建设总成本最小\n",
    "objective = sum(cost.loc[j] * x_vars.loc[j] for j in set_city)\n",
    "# 配送中心数量最小\n",
    "# objective = sum(x_vars.loc[j] for j in set_city)\n",
    "\n",
    "# for minimization             \n",
    "m.minimize(objective)"
   ]
  },
  {
   "cell_type": "code",
   "execution_count": 6,
   "id": "30c62c86-8af6-49b1-8273-dc69f9c39e6c",
   "metadata": {},
   "outputs": [
    {
     "name": "stdout",
     "output_type": "stream",
     "text": [
      "Model: experimentmodel1.3.3\n",
      " - number of variables: 9\n",
      "   - binary=9, integer=0, continuous=0\n",
      " - number of constraints: 10\n",
      "   - linear=10\n",
      " - parameters: defaults\n",
      " - objective: minimize\n",
      " - problem type is: MILP\n"
     ]
    }
   ],
   "source": [
    "# 打印模型信息\n",
    "m.print_information()"
   ]
  },
  {
   "cell_type": "code",
   "execution_count": 7,
   "id": "91573e0b-1488-4eea-b1b2-b407c37f5607",
   "metadata": {},
   "outputs": [
    {
     "name": "stdout",
     "output_type": "stream",
     "text": [
      "Version identifier: 20.1.0.1 | 2022-01-05 | 9df5e5246\n",
      "CPXPARAM_Read_DataCheck                          1\n",
      "Found incumbent of value 25.000000 after 0.01 sec. (0.00 ticks)\n",
      "Tried aggregator 1 time.\n",
      "MIP Presolve eliminated 10 rows and 8 columns.\n",
      "All rows and columns eliminated.\n",
      "Presolve time = 0.01 sec. (0.02 ticks)\n",
      "\n",
      "Root node processing (before b&c):\n",
      "  Real time             =    0.02 sec. (0.02 ticks)\n",
      "Parallel b&c, 8 threads:\n",
      "  Real time             =    0.00 sec. (0.00 ticks)\n",
      "  Sync time (average)   =    0.00 sec.\n",
      "  Wait time (average)   =    0.00 sec.\n",
      "                          ------------\n",
      "Total (root+branch&cut) =    0.02 sec. (0.02 ticks)\n",
      "objective: 10\n",
      "  x_3=1\n",
      "  x_8=1\n"
     ]
    }
   ],
   "source": [
    "# 模型求解及结果输出\n",
    "s = m.solve(log_output=True)\n",
    "m.print_solution()"
   ]
  },
  {
   "cell_type": "code",
   "execution_count": 8,
   "id": "3805623a-029c-4811-93ae-7e88178647d3",
   "metadata": {},
   "outputs": [],
   "source": [
    "# 输出结果\n",
    "x_vars = x_vars.apply(lambda item: item.solution_value) \n",
    "x_vars.to_csv(\"solution_x.csv\")"
   ]
  },
  {
   "cell_type": "code",
   "execution_count": 9,
   "id": "0953a68d-6fdc-4e31-adbb-3680246c9c14",
   "metadata": {},
   "outputs": [
    {
     "data": {
      "text/plain": [
       "1    0.0\n",
       "2    0.0\n",
       "3    1.0\n",
       "4    0.0\n",
       "5    0.0\n",
       "6    0.0\n",
       "7    0.0\n",
       "8    1.0\n",
       "9    0.0\n",
       "dtype: float64"
      ]
     },
     "execution_count": 9,
     "metadata": {},
     "output_type": "execute_result"
    }
   ],
   "source": [
    "x_vars"
   ]
  }
 ],
 "metadata": {
  "kernelspec": {
   "display_name": "Python 3",
   "language": "python",
   "name": "python3"
  },
  "language_info": {
   "codemirror_mode": {
    "name": "ipython",
    "version": 3
   },
   "file_extension": ".py",
   "mimetype": "text/x-python",
   "name": "python",
   "nbconvert_exporter": "python",
   "pygments_lexer": "ipython3",
   "version": "3.8.5"
  }
 },
 "nbformat": 4,
 "nbformat_minor": 5
}
