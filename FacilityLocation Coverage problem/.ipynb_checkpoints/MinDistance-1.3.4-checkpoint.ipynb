{
 "cells": [
  {
   "cell_type": "code",
   "execution_count": 1,
   "id": "0c097423-eb1f-4cd8-834b-3c93389cf920",
   "metadata": {},
   "outputs": [],
   "source": [
    "import pandas as pd"
   ]
  },
  {
   "cell_type": "code",
   "execution_count": 2,
   "id": "ad81e062-edfd-43c0-81fc-e5233c23169b",
   "metadata": {},
   "outputs": [],
   "source": [
    "graph = {'1': [(8, '1', '2'), (15, '1', '3'), (10, '1', '4')], \n",
    "         '2': [(8, '2', '1'), (12, '2', '3'), (7, '2', '4'), (16, '2', '5')], \n",
    "         '3': [(15, '3', '1'), (12, '3', '2'), (9, '3', '5'), (11, '3', '6')],\n",
    "         '4': [(10, '4', '1'), (7, '4', '2'), (11, '4', '5'), (17, '4', '6')], \n",
    "         '5': [(16, '5', '2'), (9, '5', '3'), (11, '5', '4'), (13, '5', '6')], \n",
    "         '6': [(11, '6', '3'), (17, '6', '4'), (13, '6', '5')]\n",
    "        }\n",
    "\n",
    "def graph2adjacent_matrix(graph):\n",
    "    vnum = len(graph)\n",
    "    dict = {'1':0,'2':1,'3':2,'4':3,'5':4,'6':5}\n",
    "    adjacent_matrix = [[0 if row==col else float('inf') for col in range(vnum)] for row in range(vnum)]\n",
    "    vertices = graph.keys()\n",
    "    for vertex in vertices:\n",
    "        for edge in graph[vertex]:\n",
    "            w,u,v = edge\n",
    "            adjacent_matrix[dict.get(u)][dict.get(v)]=w\n",
    "    return adjacent_matrix"
   ]
  },
  {
   "cell_type": "code",
   "execution_count": 3,
   "id": "70c71848-2383-4138-818a-71074aa16add",
   "metadata": {},
   "outputs": [
    {
     "name": "stdout",
     "output_type": "stream",
     "text": [
      "0\t8\t15\t10\tinf\tinf\t\n",
      "8\t0\t12\t7\t16\tinf\t\n",
      "15\t12\t0\tinf\t9\t11\t\n",
      "10\t7\tinf\t0\t11\t17\t\n",
      "inf\t16\t9\t11\t0\t13\t\n",
      "inf\tinf\t11\t17\t13\t0\t\n",
      "\n",
      "0\t1\t2\t3\t3\t2\t\n",
      "0\t1\t2\t3\t4\t2\t\n",
      "0\t1\t2\t1\t4\t5\t\n",
      "0\t1\t1\t3\t4\t5\t\n",
      "3\t1\t2\t3\t4\t5\t\n",
      "2\t2\t2\t3\t4\t5\t\n",
      "\n",
      "0\t8\t15\t10\t21\t26\t\n",
      "8\t0\t12\t7\t16\t23\t\n",
      "15\t12\t0\t19\t9\t11\t\n",
      "10\t7\t19\t0\t11\t17\t\n",
      "21\t16\t9\t11\t0\t13\t\n",
      "26\t23\t11\t17\t13\t0\t\n"
     ]
    }
   ],
   "source": [
    "def floyd(adjacent_matrix):\n",
    "    vnum = len(adjacent_matrix)\n",
    "    a = [[adjacent_matrix[row][col] for col in range(vnum)] for row in range(vnum)]\n",
    "    nvertex = [[-1 if adjacent_matrix[row][col]==float('inf') else col for col in range(vnum)] for row in range(vnum)]\n",
    "    # print(adjacent_matrix)\n",
    "    for k in range(vnum):\n",
    "        for i in range(vnum):\n",
    "            for j in range(vnum):\n",
    "                if a[i][j]>a[i][k]+a[k][j]:\n",
    "                    a[i][j]=a[i][k]+a[k][j] \n",
    "                    nvertex[i][j] = nvertex[i][k]\n",
    "    return nvertex, a\n",
    "\n",
    "adjacent_matrix = graph2adjacent_matrix(graph)\n",
    "nvertex, a = floyd(adjacent_matrix)\n",
    "### 打印原邻接矩阵 ###\n",
    "for i in range(len(adjacent_matrix)):\n",
    "    for j in range(len(adjacent_matrix[0])):\n",
    "        print(adjacent_matrix[i][j],end=\"\\t\")\n",
    "    print()#打印一行后换行\n",
    "### 打印经过的顶点 ###\n",
    "print()\n",
    "for i in range(len(nvertex)):\n",
    "    for j in range(len(nvertex[0])):\n",
    "        print(nvertex[i][j],end=\"\\t\")\n",
    "    print()#打印一行后换行\n",
    "### 打印彼此之间的最短距离 ###\n",
    "print()\n",
    "for i in range(len(a)):\n",
    "    for j in range(len(a[0])):\n",
    "        print(a[i][j],end=\"\\t\")\n",
    "    print()#打印一行后换行"
   ]
  },
  {
   "cell_type": "code",
   "execution_count": 4,
   "id": "f4f53d1e-d721-48f3-aa85-bc8f91209a9f",
   "metadata": {},
   "outputs": [],
   "source": [
    "min_distance = pd.DataFrame(a, columns=[i for i in range(1, len(graph))], index=[i for i in len(graph)])\n",
    "min_distance.to_csv(\"min_distance.csv\")"
   ]
  },
  {
   "cell_type": "code",
   "execution_count": null,
   "id": "8eaf7fc4-4664-4c36-bf42-df5295d3e18c",
   "metadata": {},
   "outputs": [],
   "source": []
  }
 ],
 "metadata": {
  "kernelspec": {
   "display_name": "Python 3",
   "language": "python",
   "name": "python3"
  },
  "language_info": {
   "codemirror_mode": {
    "name": "ipython",
    "version": 3
   },
   "file_extension": ".py",
   "mimetype": "text/x-python",
   "name": "python",
   "nbconvert_exporter": "python",
   "pygments_lexer": "ipython3",
   "version": "3.8.5"
  }
 },
 "nbformat": 4,
 "nbformat_minor": 5
}
