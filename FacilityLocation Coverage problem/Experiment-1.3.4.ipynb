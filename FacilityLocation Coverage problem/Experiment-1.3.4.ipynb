{
 "cells": [
  {
   "cell_type": "code",
   "execution_count": 1,
   "id": "cba48792-bb06-4261-8409-62808fc45fa0",
   "metadata": {},
   "outputs": [],
   "source": [
    "# 导入包\n",
    "from docplex.mp.model import Model\n",
    "import pandas as pd\n",
    "\n",
    "# 建立模型\n",
    "m = Model(name='experimentmodel1.3.4')"
   ]
  },
  {
   "cell_type": "code",
   "execution_count": 2,
   "id": "fd089919-59b7-4aee-bfea-cdfa83af5559",
   "metadata": {},
   "outputs": [
    {
     "data": {
      "text/html": [
       "<div>\n",
       "<style scoped>\n",
       "    .dataframe tbody tr th:only-of-type {\n",
       "        vertical-align: middle;\n",
       "    }\n",
       "\n",
       "    .dataframe tbody tr th {\n",
       "        vertical-align: top;\n",
       "    }\n",
       "\n",
       "    .dataframe thead th {\n",
       "        text-align: right;\n",
       "    }\n",
       "</style>\n",
       "<table border=\"1\" class=\"dataframe\">\n",
       "  <thead>\n",
       "    <tr style=\"text-align: right;\">\n",
       "      <th></th>\n",
       "      <th>1</th>\n",
       "      <th>2</th>\n",
       "      <th>3</th>\n",
       "      <th>4</th>\n",
       "      <th>5</th>\n",
       "      <th>6</th>\n",
       "    </tr>\n",
       "  </thead>\n",
       "  <tbody>\n",
       "    <tr>\n",
       "      <th>1</th>\n",
       "      <td>1</td>\n",
       "      <td>1</td>\n",
       "      <td>0</td>\n",
       "      <td>1</td>\n",
       "      <td>0</td>\n",
       "      <td>0</td>\n",
       "    </tr>\n",
       "    <tr>\n",
       "      <th>2</th>\n",
       "      <td>1</td>\n",
       "      <td>1</td>\n",
       "      <td>0</td>\n",
       "      <td>1</td>\n",
       "      <td>0</td>\n",
       "      <td>0</td>\n",
       "    </tr>\n",
       "    <tr>\n",
       "      <th>3</th>\n",
       "      <td>0</td>\n",
       "      <td>0</td>\n",
       "      <td>1</td>\n",
       "      <td>0</td>\n",
       "      <td>1</td>\n",
       "      <td>1</td>\n",
       "    </tr>\n",
       "    <tr>\n",
       "      <th>4</th>\n",
       "      <td>1</td>\n",
       "      <td>1</td>\n",
       "      <td>0</td>\n",
       "      <td>1</td>\n",
       "      <td>1</td>\n",
       "      <td>0</td>\n",
       "    </tr>\n",
       "    <tr>\n",
       "      <th>5</th>\n",
       "      <td>0</td>\n",
       "      <td>0</td>\n",
       "      <td>1</td>\n",
       "      <td>1</td>\n",
       "      <td>1</td>\n",
       "      <td>0</td>\n",
       "    </tr>\n",
       "    <tr>\n",
       "      <th>6</th>\n",
       "      <td>0</td>\n",
       "      <td>0</td>\n",
       "      <td>1</td>\n",
       "      <td>0</td>\n",
       "      <td>0</td>\n",
       "      <td>1</td>\n",
       "    </tr>\n",
       "  </tbody>\n",
       "</table>\n",
       "</div>"
      ],
      "text/plain": [
       "   1  2  3  4  5  6\n",
       "1  1  1  0  1  0  0\n",
       "2  1  1  0  1  0  0\n",
       "3  0  0  1  0  1  1\n",
       "4  1  1  0  1  1  0\n",
       "5  0  0  1  1  1  0\n",
       "6  0  0  1  0  0  1"
      ]
     },
     "execution_count": 2,
     "metadata": {},
     "output_type": "execute_result"
    }
   ],
   "source": [
    "# 定义参数\n",
    "n_city = 6\n",
    "\n",
    "# 城市索引\n",
    "set_city = range(1, n_city + 1)\n",
    "\n",
    "# 各城市之间的距离\n",
    "distance = pd.read_csv(\"min_distance.csv\", usecols=[i for i in set_city])\n",
    "distance.columns = [i for i in set_city]\n",
    "distance.index = [i for i in set_city]\n",
    "\n",
    "# 各城市需求量\n",
    "demand = pd.Series(pd.read_csv(\"demand.csv\")['demand'].values, index = [i for i in set_city])\n",
    "\n",
    "# 可覆盖关系矩阵\n",
    "coverable_distance = 11\n",
    "cover_matrix = pd.DataFrame(columns=[i for i in set_city], index = [i for i in set_city])\n",
    "for i in set_city:\n",
    "    for j in set_city:\n",
    "        if distance.loc[i,j] <= coverable_distance:\n",
    "            cover_matrix.loc[i,j] = 1\n",
    "        else:\n",
    "            cover_matrix.loc[i,j] = 0\n",
    "cover_matrix"
   ]
  },
  {
   "cell_type": "code",
   "execution_count": 3,
   "id": "9f405fbf-2c57-4c98-aaf8-46dcc9ac53fe",
   "metadata": {},
   "outputs": [],
   "source": [
    "# 定义变量\n",
    "x_vars = pd.Series([m.binary_var(name=\"x_{0}\".format(j)) for j in set_city])\n",
    "x_vars.index = [j for j in set_city]\n",
    "\n",
    "z_vars = pd.Series([m.binary_var(name=\"z_{0}\".format(i)) for i in set_city])\n",
    "z_vars.index = [i for i in set_city]"
   ]
  },
  {
   "cell_type": "code",
   "execution_count": 4,
   "id": "482008b6-1d62-485c-aed5-127b0d40a435",
   "metadata": {},
   "outputs": [],
   "source": [
    "# 定义约束条件\n",
    "cover_constrains = {i : m.add_constraint(\n",
    "    sum(cover_matrix.loc[i,j] * x_vars.loc[j] for j in set_city) >= z_vars.loc[i],\n",
    "    ctname=\"cover_constrain_{0}\".format(i))\n",
    "              for i in set_city}\n",
    "capability_constrain = m.add_constraint(sum(x_vars.loc[j] for j in set_city) == 2)"
   ]
  },
  {
   "cell_type": "code",
   "execution_count": 5,
   "id": "d9652f3f-1098-4e20-8e50-67215bccb5da",
   "metadata": {},
   "outputs": [],
   "source": [
    "# 定义目标函数\n",
    "objective = sum(demand.loc[i] * z_vars.loc[i] for i in set_city)\n",
    "\n",
    "# for maximization             \n",
    "m.maximize(objective)"
   ]
  },
  {
   "cell_type": "code",
   "execution_count": 6,
   "id": "30c62c86-8af6-49b1-8273-dc69f9c39e6c",
   "metadata": {},
   "outputs": [
    {
     "name": "stdout",
     "output_type": "stream",
     "text": [
      "Model: experimentmodel1.3.4\n",
      " - number of variables: 12\n",
      "   - binary=12, integer=0, continuous=0\n",
      " - number of constraints: 7\n",
      "   - linear=7\n",
      " - parameters: defaults\n",
      " - objective: maximize\n",
      " - problem type is: MILP\n"
     ]
    }
   ],
   "source": [
    "# 打印模型信息\n",
    "m.print_information()"
   ]
  },
  {
   "cell_type": "code",
   "execution_count": 7,
   "id": "91573e0b-1488-4eea-b1b2-b407c37f5607",
   "metadata": {},
   "outputs": [
    {
     "name": "stdout",
     "output_type": "stream",
     "text": [
      "Version identifier: 20.1.0.1 | 2022-01-05 | 9df5e5246\n",
      "CPXPARAM_Read_DataCheck                          1\n",
      "Tried aggregator 1 time.\n",
      "MIP Presolve eliminated 1 rows and 1 columns.\n",
      "Reduced MIP has 6 rows, 10 columns, and 23 nonzeros.\n",
      "Reduced MIP has 9 binaries, 1 generals, 0 SOSs, and 0 indicators.\n",
      "Presolve time = 0.01 sec. (0.02 ticks)\n",
      "Found incumbent of value 0.000000 after 0.02 sec. (0.03 ticks)\n",
      "Probing time = 0.00 sec. (0.00 ticks)\n",
      "Tried aggregator 1 time.\n",
      "Detecting symmetries...\n",
      "Reduced MIP has 6 rows, 10 columns, and 23 nonzeros.\n",
      "Reduced MIP has 9 binaries, 1 generals, 0 SOSs, and 0 indicators.\n",
      "Presolve time = 0.01 sec. (0.02 ticks)\n",
      "Probing time = 0.00 sec. (0.00 ticks)\n",
      "MIP emphasis: balance optimality and feasibility.\n",
      "MIP search method: dynamic search.\n",
      "Parallel mode: deterministic, using up to 8 threads.\n",
      "Root relaxation solution time = 0.01 sec. (0.01 ticks)\n",
      "\n",
      "        Nodes                                         Cuts/\n",
      "   Node  Left     Objective  IInf  Best Integer    Best Bound    ItCnt     Gap\n",
      "\n",
      "*     0+    0                            0.0000      120.0000              --- \n",
      "*     0+    0                          102.0000      120.0000            17.65%\n",
      "*     0     0      integral     0      120.0000      120.0000        2    0.00%\n",
      "Elapsed time = 0.07 sec. (0.07 ticks, tree = 0.00 MB, solutions = 3)\n",
      "\n",
      "Root node processing (before b&c):\n",
      "  Real time             =    0.07 sec. (0.07 ticks)\n",
      "Parallel b&c, 8 threads:\n",
      "  Real time             =    0.00 sec. (0.00 ticks)\n",
      "  Sync time (average)   =    0.00 sec.\n",
      "  Wait time (average)   =    0.00 sec.\n",
      "                          ------------\n",
      "Total (root+branch&cut) =    0.07 sec. (0.07 ticks)\n",
      "objective: 120\n",
      "  x_4=1\n",
      "  x_6=1\n",
      "  z_1=1\n",
      "  z_2=1\n",
      "  z_3=1\n",
      "  z_4=1\n",
      "  z_5=1\n",
      "  z_6=1\n"
     ]
    }
   ],
   "source": [
    "# 模型求解及结果输出\n",
    "s = m.solve(log_output=True)\n",
    "m.print_solution()"
   ]
  },
  {
   "cell_type": "code",
   "execution_count": 8,
   "id": "3805623a-029c-4811-93ae-7e88178647d3",
   "metadata": {},
   "outputs": [],
   "source": [
    "# 输出结果\n",
    "x_vars = x_vars.apply(lambda item: item.solution_value) \n",
    "z_vars = z_vars.apply(lambda item: item.solution_value) \n",
    "x_vars.to_csv(\"solution_x.csv\")\n",
    "z_vars.to_csv(\"solution_z.csv\")"
   ]
  },
  {
   "cell_type": "code",
   "execution_count": 9,
   "id": "0953a68d-6fdc-4e31-adbb-3680246c9c14",
   "metadata": {},
   "outputs": [
    {
     "data": {
      "text/plain": [
       "1    0.0\n",
       "2    0.0\n",
       "3    0.0\n",
       "4    1.0\n",
       "5    0.0\n",
       "6    1.0\n",
       "dtype: float64"
      ]
     },
     "execution_count": 9,
     "metadata": {},
     "output_type": "execute_result"
    }
   ],
   "source": [
    "x_vars"
   ]
  },
  {
   "cell_type": "code",
   "execution_count": 10,
   "id": "4bbaee15-e37e-405f-a077-ee1f380515d2",
   "metadata": {},
   "outputs": [
    {
     "data": {
      "text/plain": [
       "1    1.0\n",
       "2    1.0\n",
       "3    1.0\n",
       "4    1.0\n",
       "5    1.0\n",
       "6    1.0\n",
       "dtype: float64"
      ]
     },
     "execution_count": 10,
     "metadata": {},
     "output_type": "execute_result"
    }
   ],
   "source": [
    "z_vars"
   ]
  }
 ],
 "metadata": {
  "kernelspec": {
   "display_name": "Python 3",
   "language": "python",
   "name": "python3"
  },
  "language_info": {
   "codemirror_mode": {
    "name": "ipython",
    "version": 3
   },
   "file_extension": ".py",
   "mimetype": "text/x-python",
   "name": "python",
   "nbconvert_exporter": "python",
   "pygments_lexer": "ipython3",
   "version": "3.8.5"
  }
 },
 "nbformat": 4,
 "nbformat_minor": 5
}
