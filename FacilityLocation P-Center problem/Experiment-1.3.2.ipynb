{
 "cells": [
  {
   "cell_type": "code",
   "execution_count": 1,
   "id": "cba48792-bb06-4261-8409-62808fc45fa0",
   "metadata": {},
   "outputs": [],
   "source": [
    "# 导入包\n",
    "from docplex.mp.model import Model\n",
    "import pandas as pd\n",
    "\n",
    "# 建立模型\n",
    "m = Model(name='experimentmodel1.3.2')"
   ]
  },
  {
   "cell_type": "code",
   "execution_count": 2,
   "id": "fd089919-59b7-4aee-bfea-cdfa83af5559",
   "metadata": {},
   "outputs": [],
   "source": [
    "# 定义参数\n",
    "# 超市数量\n",
    "n_shop = 8\n",
    "\n",
    "# 仓库数量\n",
    "n_warehouse = 4\n",
    "\n",
    "# 超市索引\n",
    "set_shop = range(1, n_shop + 1)\n",
    "\n",
    "# 仓库索引\n",
    "set_warehouse = range(1, n_warehouse + 1)\n",
    "\n",
    "# 各超市到仓库的距离\n",
    "distance = pd.read_csv(\"distance.csv\")\n",
    "distance.index = [i for i in set_shop]\n",
    "distance.columns = [j for j in set_warehouse]\n",
    "\n",
    "# 各超市的需求总量\n",
    "demand = pd.Series(pd.read_csv(\"demand.csv\")['demand'].values, index = [i for i in set_shop])"
   ]
  },
  {
   "cell_type": "code",
   "execution_count": 3,
   "id": "9f405fbf-2c57-4c98-aaf8-46dcc9ac53fe",
   "metadata": {},
   "outputs": [],
   "source": [
    "# 定义变量\n",
    "x_vars = pd.DataFrame({j : pd.Series(m.binary_var(name=\"x_{0}_{1}\".format(i,j)) \n",
    "                                     for i in set_shop) \n",
    "                       for j in set_warehouse})\n",
    "x_vars.index = [i for i in set_shop]\n",
    "\n",
    "y_vars = pd.Series([m.binary_var(name=\"y_{0}\".format(j)) for j in set_warehouse])\n",
    "y_vars.index = [j for j in set_warehouse]\n",
    "\n",
    "maxCost = m.continuous_var(name=\"maxCost\")"
   ]
  },
  {
   "cell_type": "code",
   "execution_count": 4,
   "id": "482008b6-1d62-485c-aed5-127b0d40a435",
   "metadata": {},
   "outputs": [],
   "source": [
    "# 定义约束条件\n",
    "unique_supply_constrains = {i : m.add_constraint(\n",
    "    sum(x_vars.loc[i,j] for j in set_warehouse) == 1,\n",
    "    ctname=\"unique_supply_constrain_{0}\".format(i))\n",
    "                     for i in set_shop}\n",
    "\n",
    "selection_constraint = m.add_constraint(\n",
    "    sum(y_vars.loc[j] for j in set_warehouse) == 2,\n",
    "    ctname=\"selection_constraint\")\n",
    "\n",
    "supply_constrains = {(i,j) : m.add_constraint(\n",
    "    x_vars.loc[i,j] <= y_vars.loc[j],\n",
    "    ctname=\"supply_constrain_{0}_{1}\".format(i,j))\n",
    "                     for i in set_shop\n",
    "                     for j in set_warehouse}\n",
    "\n",
    "max_cost_constrains = {i : m.add_constraint(\n",
    "    sum(demand.loc[i] * distance.loc[i,j] * x_vars.loc[i,j] for j in set_warehouse) <= maxCost,\n",
    "    ctname=\"max_cost_constrain_{0}\".format(i))\n",
    "                      for i in set_shop}"
   ]
  },
  {
   "cell_type": "code",
   "execution_count": 5,
   "id": "d9652f3f-1098-4e20-8e50-67215bccb5da",
   "metadata": {},
   "outputs": [],
   "source": [
    "# 定义目标函数\n",
    "objective = maxCost\n",
    "\n",
    "# for minimization             \n",
    "m.minimize(objective)"
   ]
  },
  {
   "cell_type": "code",
   "execution_count": 6,
   "id": "30c62c86-8af6-49b1-8273-dc69f9c39e6c",
   "metadata": {},
   "outputs": [
    {
     "name": "stdout",
     "output_type": "stream",
     "text": [
      "Model: experimentmodel1.3.2\n",
      " - number of variables: 37\n",
      "   - binary=36, integer=0, continuous=1\n",
      " - number of constraints: 49\n",
      "   - linear=49\n",
      " - parameters: defaults\n",
      " - objective: minimize\n",
      " - problem type is: MILP\n"
     ]
    }
   ],
   "source": [
    "# 打印模型信息\n",
    "m.print_information()"
   ]
  },
  {
   "cell_type": "code",
   "execution_count": 7,
   "id": "91573e0b-1488-4eea-b1b2-b407c37f5607",
   "metadata": {},
   "outputs": [
    {
     "name": "stdout",
     "output_type": "stream",
     "text": [
      "Version identifier: 20.1.0.1 | 2022-01-05 | 9df5e5246\n",
      "CPXPARAM_Read_DataCheck                          1\n",
      "Tried aggregator 1 time.\n",
      "Reduced MIP has 49 rows, 37 columns, and 140 nonzeros.\n",
      "Reduced MIP has 36 binaries, 0 generals, 0 SOSs, and 0 indicators.\n",
      "Presolve time = 0.00 sec. (0.08 ticks)\n",
      "Found incumbent of value 2200.000000 after 0.01 sec. (0.12 ticks)\n",
      "Probing time = 0.00 sec. (0.03 ticks)\n",
      "Cover probing fixed 0 vars, tightened 6 bounds.\n",
      "Tried aggregator 3 times.\n",
      "MIP Presolve eliminated 3 rows and 3 columns.\n",
      "MIP Presolve modified 19 coefficients.\n",
      "Aggregator did 2 substitutions.\n",
      "Reduced MIP has 44 rows, 32 columns, and 109 nonzeros.\n",
      "Reduced MIP has 31 binaries, 1 generals, 0 SOSs, and 0 indicators.\n",
      "Presolve time = 0.01 sec. (0.16 ticks)\n",
      "Probing time = 0.00 sec. (0.02 ticks)\n",
      "Tried aggregator 1 time.\n",
      "Detecting symmetries...\n",
      "Reduced MIP has 44 rows, 32 columns, and 109 nonzeros.\n",
      "Reduced MIP has 31 binaries, 1 generals, 0 SOSs, and 0 indicators.\n",
      "Presolve time = 0.00 sec. (0.09 ticks)\n",
      "Probing time = 0.00 sec. (0.02 ticks)\n",
      "Clique table members: 35.\n",
      "MIP emphasis: balance optimality and feasibility.\n",
      "MIP search method: dynamic search.\n",
      "Parallel mode: deterministic, using up to 8 threads.\n",
      "Root relaxation solution time = 0.00 sec. (0.08 ticks)\n",
      "\n",
      "        Nodes                                         Cuts/\n",
      "   Node  Left     Objective  IInf  Best Integer    Best Bound    ItCnt     Gap\n",
      "\n",
      "*     0+    0                         2200.0000      600.0000            72.73%\n",
      "      0     0      860.2410    19     2200.0000      860.2410       21   60.90%\n",
      "*     0+    0                         2000.0000      860.2410            56.99%\n",
      "      0     0     1061.5518    19     2000.0000       Cuts: 7       26   46.92%\n",
      "*     0+    0                         1200.0000     1061.5518            11.54%\n",
      "      0     0        cutoff           1200.0000                     26    0.00%\n",
      "Elapsed time = 0.06 sec. (1.37 ticks, tree = 0.01 MB, solutions = 3)\n",
      "\n",
      "Lift and project cuts applied:  2\n",
      "Gomory fractional cuts applied:  2\n",
      "\n",
      "Root node processing (before b&c):\n",
      "  Real time             =    0.06 sec. (1.37 ticks)\n",
      "Parallel b&c, 8 threads:\n",
      "  Real time             =    0.00 sec. (0.00 ticks)\n",
      "  Sync time (average)   =    0.00 sec.\n",
      "  Wait time (average)   =    0.00 sec.\n",
      "                          ------------\n",
      "Total (root+branch&cut) =    0.06 sec. (1.37 ticks)\n",
      "objective: 1200.000\n",
      "  x_2_2=1\n",
      "  x_3_2=1\n",
      "  x_4_2=1\n",
      "  x_6_2=1\n",
      "  x_8_2=1\n",
      "  x_1_4=1\n",
      "  x_5_4=1\n",
      "  x_7_4=1\n",
      "  y_2=1\n",
      "  y_4=1\n",
      "  maxCost=1200.000\n"
     ]
    }
   ],
   "source": [
    "# 模型求解及结果输出\n",
    "s = m.solve(log_output=True)\n",
    "m.print_solution()"
   ]
  },
  {
   "cell_type": "code",
   "execution_count": 8,
   "id": "3805623a-029c-4811-93ae-7e88178647d3",
   "metadata": {},
   "outputs": [],
   "source": [
    "# 输出结果\n",
    "for i in set_shop:\n",
    "    x_vars.loc[i] = x_vars.loc[i].apply(lambda item: item.solution_value) \n",
    "y_vars = y_vars.apply(lambda item: item.solution_value) \n",
    "\n",
    "x_vars.to_csv(\"solution_x.csv\")\n",
    "y_vars.to_csv(\"solution_y.csv\")"
   ]
  },
  {
   "cell_type": "code",
   "execution_count": 9,
   "id": "0953a68d-6fdc-4e31-adbb-3680246c9c14",
   "metadata": {},
   "outputs": [
    {
     "data": {
      "text/html": [
       "<div>\n",
       "<style scoped>\n",
       "    .dataframe tbody tr th:only-of-type {\n",
       "        vertical-align: middle;\n",
       "    }\n",
       "\n",
       "    .dataframe tbody tr th {\n",
       "        vertical-align: top;\n",
       "    }\n",
       "\n",
       "    .dataframe thead th {\n",
       "        text-align: right;\n",
       "    }\n",
       "</style>\n",
       "<table border=\"1\" class=\"dataframe\">\n",
       "  <thead>\n",
       "    <tr style=\"text-align: right;\">\n",
       "      <th></th>\n",
       "      <th>1</th>\n",
       "      <th>2</th>\n",
       "      <th>3</th>\n",
       "      <th>4</th>\n",
       "    </tr>\n",
       "  </thead>\n",
       "  <tbody>\n",
       "    <tr>\n",
       "      <th>1</th>\n",
       "      <td>0.0</td>\n",
       "      <td>0.0</td>\n",
       "      <td>0.0</td>\n",
       "      <td>1.0</td>\n",
       "    </tr>\n",
       "    <tr>\n",
       "      <th>2</th>\n",
       "      <td>0.0</td>\n",
       "      <td>1.0</td>\n",
       "      <td>0.0</td>\n",
       "      <td>0.0</td>\n",
       "    </tr>\n",
       "    <tr>\n",
       "      <th>3</th>\n",
       "      <td>0.0</td>\n",
       "      <td>1.0</td>\n",
       "      <td>0.0</td>\n",
       "      <td>0.0</td>\n",
       "    </tr>\n",
       "    <tr>\n",
       "      <th>4</th>\n",
       "      <td>0.0</td>\n",
       "      <td>1.0</td>\n",
       "      <td>0.0</td>\n",
       "      <td>0.0</td>\n",
       "    </tr>\n",
       "    <tr>\n",
       "      <th>5</th>\n",
       "      <td>0.0</td>\n",
       "      <td>0.0</td>\n",
       "      <td>0.0</td>\n",
       "      <td>1.0</td>\n",
       "    </tr>\n",
       "    <tr>\n",
       "      <th>6</th>\n",
       "      <td>0.0</td>\n",
       "      <td>1.0</td>\n",
       "      <td>0.0</td>\n",
       "      <td>0.0</td>\n",
       "    </tr>\n",
       "    <tr>\n",
       "      <th>7</th>\n",
       "      <td>0.0</td>\n",
       "      <td>0.0</td>\n",
       "      <td>0.0</td>\n",
       "      <td>1.0</td>\n",
       "    </tr>\n",
       "    <tr>\n",
       "      <th>8</th>\n",
       "      <td>0.0</td>\n",
       "      <td>1.0</td>\n",
       "      <td>0.0</td>\n",
       "      <td>0.0</td>\n",
       "    </tr>\n",
       "  </tbody>\n",
       "</table>\n",
       "</div>"
      ],
      "text/plain": [
       "     1    2    3    4\n",
       "1  0.0  0.0  0.0  1.0\n",
       "2  0.0  1.0  0.0  0.0\n",
       "3  0.0  1.0  0.0  0.0\n",
       "4  0.0  1.0  0.0  0.0\n",
       "5  0.0  0.0  0.0  1.0\n",
       "6  0.0  1.0  0.0  0.0\n",
       "7  0.0  0.0  0.0  1.0\n",
       "8  0.0  1.0  0.0  0.0"
      ]
     },
     "execution_count": 9,
     "metadata": {},
     "output_type": "execute_result"
    }
   ],
   "source": [
    "x_vars"
   ]
  },
  {
   "cell_type": "code",
   "execution_count": 10,
   "id": "1db8635d-99ed-46ed-9e41-796f2db5a980",
   "metadata": {},
   "outputs": [
    {
     "data": {
      "text/plain": [
       "1    0.0\n",
       "2    1.0\n",
       "3    0.0\n",
       "4    1.0\n",
       "dtype: float64"
      ]
     },
     "execution_count": 10,
     "metadata": {},
     "output_type": "execute_result"
    }
   ],
   "source": [
    "y_vars"
   ]
  }
 ],
 "metadata": {
  "kernelspec": {
   "display_name": "Python 3",
   "language": "python",
   "name": "python3"
  },
  "language_info": {
   "codemirror_mode": {
    "name": "ipython",
    "version": 3
   },
   "file_extension": ".py",
   "mimetype": "text/x-python",
   "name": "python",
   "nbconvert_exporter": "python",
   "pygments_lexer": "ipython3",
   "version": "3.8.5"
  }
 },
 "nbformat": 4,
 "nbformat_minor": 5
}
